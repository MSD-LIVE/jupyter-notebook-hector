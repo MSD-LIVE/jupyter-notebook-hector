{
 "cells": [
  {
   "cell_type": "markdown",
   "id": "72a3a069",
   "metadata": {},
   "source": [
    "# Hector V3.2.0 Tutorial\n",
    "\n",
    "Hector is an open-source, object-oriented, simple global climate-carbon model. It models critical earth system processes on a global scale. As a computationally efficient climate model, Hector has many applications. It can be used to explore scenarios, generate large ensembles of results, explore key uncertainties, and emulate Earth System Models. There are three ways to use Hector: as a stand-alone executable, through the online HectorUI, and as an R package. Installation instructions and examples are available at https://github.com/jgcri/hector and https://github.com/jgcri/hectorui. \n",
    "\n",
    "Follow the appropriate [installation for your machine]( http://jgcri.github.io/hector/articles/BuildHector.html) to run locally. Here you will learn how to use the R hector package to run complete a Hector run, change a model parameter, and query results. "
   ]
  },
  {
   "cell_type": "markdown",
   "id": "192ea1d1",
   "metadata": {},
   "source": [
    "## Getting started"
   ]
  },
  {
   "cell_type": "code",
   "execution_count": 1,
   "id": "2dff786c",
   "metadata": {},
   "outputs": [],
   "source": [
    "# Load the Hector package (this requires that Hector has already been installed\n",
    "# see http://jgcri.github.io/hector/articles/BuildHector.html)\n",
    "library(hector)\n",
    "\n",
    "# Package used to plot results\n",
    "library(ggplot2)\n",
    "theme_set(theme_bw(base_size = 20)) # plot setting\n",
    "options(repr.plot.width=16, repr.plot.height=8)"
   ]
  },
  {
   "cell_type": "markdown",
   "id": "601a843e",
   "metadata": {},
   "source": [
    "The Hector R package ships with a handful of scenarios, located in the input diretory of the package. See a list of the ini (initialization) files using the `system.file` function. Each one of these files is a configuration file for a hector run, each file contains the default model parameters and the emission time-series for the SSP scenarios."
   ]
  },
  {
   "cell_type": "code",
   "execution_count": 2,
   "id": "aac8f082-99ad-4c18-b31b-0283804a75dd",
   "metadata": {
    "tags": []
   },
   "outputs": [
    {
     "name": "stdout",
     "output_type": "stream",
     "text": [
      "hector_ssp119.ini\n",
      "hector_ssp126.ini\n",
      "hector_ssp245.ini\n",
      "hector_ssp370.ini\n",
      "hector_ssp434.ini\n",
      "hector_ssp460.ini\n",
      "hector_ssp534-over.ini\n",
      "hector_ssp585.ini\n",
      "tables\n"
     ]
    }
   ],
   "source": [
    "files <- list.files(system.file(\"input\", package = \"hector\"))\n",
    "cat(files, sep= \"\\n\")"
   ]
  },
  {
   "cell_type": "markdown",
   "id": "a9002430",
   "metadata": {},
   "source": [
    "## Run SSP2-4.5"
   ]
  },
  {
   "cell_type": "markdown",
   "id": "c303172e",
   "metadata": {},
   "source": [
    "Use the `newcore` function to set up a Hector core to run the SSP2-4.5 scenario."
   ]
  },
  {
   "cell_type": "code",
   "execution_count": 3,
   "id": "3e9b0956",
   "metadata": {},
   "outputs": [
    {
     "data": {
      "text/plain": [
       "Hector core:\tSSP2-45\n",
       "Start date:\t1745\n",
       "End date:\t2300\n",
       "Current date:\t2300\n",
       "Input file:\tC:\\Users\\brow521\\AppData\\Local\\R\\win-library\\4.4\\hector\\input\\hector_ssp245.ini"
      ]
     },
     "metadata": {},
     "output_type": "display_data"
    }
   ],
   "source": [
    "# Select the ini file to use.\n",
    "ini_file = system.file(\"input/hector_ssp245.ini\", package = \"hector\")\n",
    "\n",
    "# Set up a Hector core using the ini file. \n",
    "hcore = newcore(inifile = ini_file, name = \"SSP2-45\") \n",
    "\n",
    "# Run Hector! It will take less than a second.\n",
    "run(core = hcore)"
   ]
  },
  {
   "cell_type": "markdown",
   "id": "096555ff",
   "metadata": {},
   "source": [
    "Use the `fetchvars` function to query the Hector results. It can be used to get a time series of results or model parameters."
   ]
  },
  {
   "cell_type": "code",
   "execution_count": 4,
   "id": "f3a1e70e",
   "metadata": {},
   "outputs": [
    {
     "name": "stdout",
     "output_type": "stream",
     "text": [
      "global_tas\n",
      "CO2_concentration\n"
     ]
    }
   ],
   "source": [
    "# A vector of the variables we are interested in. Hector has a number of helper functions that return the \n",
    "# string names recognized by the Hector core. \n",
    "vars = c(GLOBAL_TAS(), CONCENTRATIONS_CO2())\n",
    "cat(vars, sep = \"\\n\")"
   ]
  },
  {
   "cell_type": "code",
   "execution_count": 5,
   "id": "8e0817fa-f40d-40bd-aedd-15450df552c7",
   "metadata": {},
   "outputs": [
    {
     "data": {
      "text/html": [
       "<table class=\"dataframe\">\n",
       "<caption>A data.frame: 6 × 5</caption>\n",
       "<thead>\n",
       "\t<tr><th></th><th scope=col>scenario</th><th scope=col>year</th><th scope=col>variable</th><th scope=col>value</th><th scope=col>units</th></tr>\n",
       "\t<tr><th></th><th scope=col>&lt;chr&gt;</th><th scope=col>&lt;dbl&gt;</th><th scope=col>&lt;chr&gt;</th><th scope=col>&lt;dbl&gt;</th><th scope=col>&lt;chr&gt;</th></tr>\n",
       "</thead>\n",
       "<tbody>\n",
       "\t<tr><th scope=row>1</th><td>SSP2-45</td><td>1850</td><td>global_tas</td><td>-0.10249176</td><td>degC</td></tr>\n",
       "\t<tr><th scope=row>2</th><td>SSP2-45</td><td>1851</td><td>global_tas</td><td>-0.09068423</td><td>degC</td></tr>\n",
       "\t<tr><th scope=row>3</th><td>SSP2-45</td><td>1852</td><td>global_tas</td><td>-0.08036054</td><td>degC</td></tr>\n",
       "\t<tr><th scope=row>4</th><td>SSP2-45</td><td>1853</td><td>global_tas</td><td>-0.08557470</td><td>degC</td></tr>\n",
       "\t<tr><th scope=row>5</th><td>SSP2-45</td><td>1854</td><td>global_tas</td><td>-0.09308445</td><td>degC</td></tr>\n",
       "\t<tr><th scope=row>6</th><td>SSP2-45</td><td>1855</td><td>global_tas</td><td>-0.08554412</td><td>degC</td></tr>\n",
       "</tbody>\n",
       "</table>\n"
      ],
      "text/latex": [
       "A data.frame: 6 × 5\n",
       "\\begin{tabular}{r|lllll}\n",
       "  & scenario & year & variable & value & units\\\\\n",
       "  & <chr> & <dbl> & <chr> & <dbl> & <chr>\\\\\n",
       "\\hline\n",
       "\t1 & SSP2-45 & 1850 & global\\_tas & -0.10249176 & degC\\\\\n",
       "\t2 & SSP2-45 & 1851 & global\\_tas & -0.09068423 & degC\\\\\n",
       "\t3 & SSP2-45 & 1852 & global\\_tas & -0.08036054 & degC\\\\\n",
       "\t4 & SSP2-45 & 1853 & global\\_tas & -0.08557470 & degC\\\\\n",
       "\t5 & SSP2-45 & 1854 & global\\_tas & -0.09308445 & degC\\\\\n",
       "\t6 & SSP2-45 & 1855 & global\\_tas & -0.08554412 & degC\\\\\n",
       "\\end{tabular}\n"
      ],
      "text/markdown": [
       "\n",
       "A data.frame: 6 × 5\n",
       "\n",
       "| <!--/--> | scenario &lt;chr&gt; | year &lt;dbl&gt; | variable &lt;chr&gt; | value &lt;dbl&gt; | units &lt;chr&gt; |\n",
       "|---|---|---|---|---|---|\n",
       "| 1 | SSP2-45 | 1850 | global_tas | -0.10249176 | degC |\n",
       "| 2 | SSP2-45 | 1851 | global_tas | -0.09068423 | degC |\n",
       "| 3 | SSP2-45 | 1852 | global_tas | -0.08036054 | degC |\n",
       "| 4 | SSP2-45 | 1853 | global_tas | -0.08557470 | degC |\n",
       "| 5 | SSP2-45 | 1854 | global_tas | -0.09308445 | degC |\n",
       "| 6 | SSP2-45 | 1855 | global_tas | -0.08554412 | degC |\n",
       "\n"
      ],
      "text/plain": [
       "  scenario year variable   value       units\n",
       "1 SSP2-45  1850 global_tas -0.10249176 degC \n",
       "2 SSP2-45  1851 global_tas -0.09068423 degC \n",
       "3 SSP2-45  1852 global_tas -0.08036054 degC \n",
       "4 SSP2-45  1853 global_tas -0.08557470 degC \n",
       "5 SSP2-45  1854 global_tas -0.09308445 degC \n",
       "6 SSP2-45  1855 global_tas -0.08554412 degC "
      ]
     },
     "metadata": {},
     "output_type": "display_data"
    }
   ],
   "source": [
    "out_ssp245 = fetchvars(core = hcore,         # the active hector core\n",
    "                       dates = 1850:2100,    # the vector contains the years of interest \n",
    "                       vars = vars)          # the vector contains the variables of interest\n",
    "\n",
    "head(out_ssp245)"
   ]
  },
  {
   "cell_type": "code",
   "execution_count": 6,
   "id": "961d7a74-bd79-439c-9397-d754d72486a0",
   "metadata": {},
   "outputs": [
    {
     "data": {
      "text/plain": [
       "Hector core (INACTIVE)"
      ]
     },
     "metadata": {},
     "output_type": "display_data"
    }
   ],
   "source": [
    "# After fetching the restults from Hector shut down the Hector core, this is a good practice. \n",
    "shutdown(hcore)"
   ]
  },
  {
   "cell_type": "markdown",
   "id": "fbbe6853",
   "metadata": {},
   "source": [
    "Now we can plot the Hector results."
   ]
  },
  {
   "cell_type": "code",
   "execution_count": 8,
   "id": "2b899d20",
   "metadata": {},
   "outputs": [
    {
     "data": {
      "image/png": "[encoded data removed]",
      "text/plain": [
       "plot without title"
      ]
     },
     "metadata": {
      "image/png": {
       "height": 480,
       "width": 960
      }
     },
     "output_type": "display_data"
    }
   ],
   "source": [
    "ggplot(data = out_ssp245) + \n",
    "    geom_line(aes(year, value, color = scenario), linewidth = 1) + \n",
    "    labs(title = \"Hector SSP2-45 Results\") + \n",
    "    facet_wrap(\"variable\", scales = \"free\") +\n",
    "    labs(y = NULL)\n"
   ]
  },
  {
   "cell_type": "markdown",
   "id": "04c90dda",
   "metadata": {},
   "source": [
    "## How to change a Hector parameter\n",
    "\n",
    "In this example we will learn how to change Hector's equilibrium climate sensitivity parameter (`ECS`). "
   ]
  },
  {
   "cell_type": "code",
   "execution_count": 9,
   "id": "35a4d2fe",
   "metadata": {},
   "outputs": [
    {
     "data": {
      "text/plain": [
       "Hector core:\tSSP2-45 higher ECS\n",
       "Start date:\t1745\n",
       "End date:\t2300\n",
       "Current date:\t2300\n",
       "Input file:\tC:\\Users\\brow521\\AppData\\Local\\R\\win-library\\4.4\\hector\\input\\hector_ssp245.ini"
      ]
     },
     "metadata": {},
     "output_type": "display_data"
    }
   ],
   "source": [
    "# First set up a Hector core\n",
    "ini_file = system.file(\"input/hector_ssp245.ini\", package = \"hector\")\n",
    "hcore = newcore(inifile = ini_file, name = \"SSP2-45 higher ECS\") \n",
    "run(core = hcore)"
   ]
  },
  {
   "cell_type": "markdown",
   "id": "3265c125",
   "metadata": {},
   "source": [
    "Use the `fetchvar` to extract the default ECS value. "
   ]
  },
  {
   "cell_type": "code",
   "execution_count": 10,
   "id": "6699135e",
   "metadata": {},
   "outputs": [
    {
     "data": {
      "text/html": [
       "<table class=\"dataframe\">\n",
       "<caption>A data.frame: 1 × 5</caption>\n",
       "<thead>\n",
       "\t<tr><th scope=col>scenario</th><th scope=col>year</th><th scope=col>variable</th><th scope=col>value</th><th scope=col>units</th></tr>\n",
       "\t<tr><th scope=col>&lt;chr&gt;</th><th scope=col>&lt;dbl&gt;</th><th scope=col>&lt;chr&gt;</th><th scope=col>&lt;dbl&gt;</th><th scope=col>&lt;chr&gt;</th></tr>\n",
       "</thead>\n",
       "<tbody>\n",
       "\t<tr><td>SSP2-45 higher ECS</td><td>NA</td><td>S</td><td>3</td><td>degC</td></tr>\n",
       "</tbody>\n",
       "</table>\n"
      ],
      "text/latex": [
       "A data.frame: 1 × 5\n",
       "\\begin{tabular}{lllll}\n",
       " scenario & year & variable & value & units\\\\\n",
       " <chr> & <dbl> & <chr> & <dbl> & <chr>\\\\\n",
       "\\hline\n",
       "\t SSP2-45 higher ECS & NA & S & 3 & degC\\\\\n",
       "\\end{tabular}\n"
      ],
      "text/markdown": [
       "\n",
       "A data.frame: 1 × 5\n",
       "\n",
       "| scenario &lt;chr&gt; | year &lt;dbl&gt; | variable &lt;chr&gt; | value &lt;dbl&gt; | units &lt;chr&gt; |\n",
       "|---|---|---|---|---|\n",
       "| SSP2-45 higher ECS | NA | S | 3 | degC |\n",
       "\n"
      ],
      "text/plain": [
       "  scenario           year variable value units\n",
       "1 SSP2-45 higher ECS NA   S        3     degC "
      ]
     },
     "metadata": {},
     "output_type": "display_data"
    }
   ],
   "source": [
    "default_ECS = fetchvars(core = hcore, dates = NA, vars = ECS())\n",
    "default_ECS"
   ]
  },
  {
   "cell_type": "markdown",
   "id": "35c52159",
   "metadata": {},
   "source": [
    "Here, we will double the default ECS and pass the information to the Hector core by calling `setvar()`. The `setvar()` function needs the string name for units, which we can get from the helper `getunits()` function."
   ]
  },
  {
   "cell_type": "code",
   "execution_count": 11,
   "id": "c4675056",
   "metadata": {},
   "outputs": [
    {
     "data": {
      "text/html": [
       "6"
      ],
      "text/latex": [
       "6"
      ],
      "text/markdown": [
       "6"
      ],
      "text/plain": [
       "[1] 6"
      ]
     },
     "metadata": {},
     "output_type": "display_data"
    }
   ],
   "source": [
    "# double the default ECS value\n",
    "double_ECS = 2 * default_ECS$value\n",
    "double_ECS"
   ]
  },
  {
   "cell_type": "code",
   "execution_count": 12,
   "id": "1789db61",
   "metadata": {},
   "outputs": [
    {
     "data": {
      "text/html": [
       "'degC'"
      ],
      "text/latex": [
       "'degC'"
      ],
      "text/markdown": [
       "'degC'"
      ],
      "text/plain": [
       "[1] \"degC\""
      ]
     },
     "metadata": {},
     "output_type": "display_data"
    }
   ],
   "source": [
    "ECS_units = getunits(vars = ECS())\n",
    "ECS_units"
   ]
  },
  {
   "cell_type": "code",
   "execution_count": 13,
   "id": "dbd5bb6f",
   "metadata": {},
   "outputs": [],
   "source": [
    "setvar(core = hcore, \n",
    "       dates = NA, \n",
    "       var = ECS(), \n",
    "       values = double_ECS, \n",
    "       unit = ECS_units)"
   ]
  },
  {
   "cell_type": "code",
   "execution_count": 14,
   "id": "ff5172b3",
   "metadata": {},
   "outputs": [
    {
     "name": "stderr",
     "output_type": "stream",
     "text": [
      "Auto-resetting core to 0\n",
      "\n"
     ]
    },
    {
     "data": {
      "text/plain": [
       "Hector core:\tSSP2-45 higher ECS\n",
       "Start date:\t1745\n",
       "End date:\t2300\n",
       "Current date:\t2300\n",
       "Input file:\tC:\\Users\\brow521\\AppData\\Local\\R\\win-library\\4.4\\hector\\input\\hector_ssp245.ini"
      ]
     },
     "metadata": {},
     "output_type": "display_data"
    }
   ],
   "source": [
    "run(core = hcore)"
   ]
  },
  {
   "cell_type": "code",
   "execution_count": 15,
   "id": "2c33914e",
   "metadata": {},
   "outputs": [],
   "source": [
    "out_ssp245_newECS = fetchvars(core = hcore, dates = 1850:2100, vars = vars)"
   ]
  },
  {
   "cell_type": "code",
   "execution_count": 16,
   "id": "38bc875c",
   "metadata": {},
   "outputs": [
    {
     "data": {
      "image/png": "[encoded data removed]",
      "text/plain": [
       "plot without title"
      ]
     },
     "metadata": {
      "image/png": {
       "height": 480,
       "width": 960
      }
     },
     "output_type": "display_data"
    }
   ],
   "source": [
    "# Combine the data frames into a single data frame, then plot it. \n",
    "results <- rbind(out_ssp245, out_ssp245_newECS)\n",
    "\n",
    "ggplot(data = results) + \n",
    "    geom_line(aes(year, value, color = scenario), linewidth = 1) + \n",
    "    facet_wrap(\"variable\", scales = \"free\") +\n",
    "    labs(y = NULL)"
   ]
  },
  {
   "cell_type": "markdown",
   "id": "5720d76d",
   "metadata": {},
   "source": [
    "## Modifying an  emissions pathway\n",
    "\n",
    "Simple climate models such as Hector can be used to explore custom/new emissions scenarios. Using the `setvars` function users can modify the emission input pathways, allowing users to test out new scenarios. Here, we will modify the CO$_{2}$ emissions from fossil fuel and industry (`ffi_emissions`) to demonstrate how to change emission pathways. **Note** that a total of 40 different emission pathways can be set using this approach, `ffi_emissions` is just the example we are using here."
   ]
  },
  {
   "cell_type": "code",
   "execution_count": 17,
   "id": "5a2a9e3a",
   "metadata": {},
   "outputs": [
    {
     "data": {
      "text/html": [
       "\n",
       "<table style=\"width: 100%;\"><tr><td>EMISSIONS_BC {hector}</td><td style=\"text-align: right;\">R Documentation</td></tr></table>\n",
       "\n",
       "<h2>Identifiers for miscellaneous emissions not elsewhere described</h2>\n",
       "\n",
       "<h3>Description</h3>\n",
       "\n",
       "<p>All of these variables can be set using the <code>SETDATA</code> message\n",
       "type.\n",
       "</p>\n",
       "\n",
       "\n",
       "<h3>Usage</h3>\n",
       "\n",
       "<pre><code class='language-R'>EMISSIONS_BC()\n",
       "\n",
       "EMISSIONS_N2O()\n",
       "\n",
       "NAT_EMISSIONS_N2O()\n",
       "\n",
       "EMISSIONS_NOX()\n",
       "\n",
       "EMISSIONS_CO()\n",
       "\n",
       "EMISSIONS_NMVOC()\n",
       "\n",
       "EMISSIONS_OC()\n",
       "\n",
       "EMISSIONS_NH3()\n",
       "</code></pre>\n",
       "\n",
       "\n",
       "<h3>Functions</h3>\n",
       "\n",
       "\n",
       "<ul>\n",
       "<li> <p><code>EMISSIONS_BC()</code>: Black carbon emissions\n",
       "</p>\n",
       "</li>\n",
       "<li> <p><code>EMISSIONS_N2O()</code>: N2O emissions (<code>\"Tg N\"</code>)\n",
       "</p>\n",
       "</li>\n",
       "<li> <p><code>NAT_EMISSIONS_N2O()</code>: Natural N2O emissions (<code>\"Tg N\"</code>)\n",
       "</p>\n",
       "</li>\n",
       "<li> <p><code>EMISSIONS_NOX()</code>: Emissions for NOx compounds (<code>\"Tg N\"</code>)\n",
       "</p>\n",
       "</li>\n",
       "<li> <p><code>EMISSIONS_CO()</code>: Emissions for carbon monoxide (<code>\"Tg CO\"</code>)\n",
       "</p>\n",
       "</li>\n",
       "<li> <p><code>EMISSIONS_NMVOC()</code>: Emissions for non-methane volatile organic compounds (NMVOC) (<code>\"Tg NMVOC\"</code>)\n",
       "</p>\n",
       "</li>\n",
       "<li> <p><code>EMISSIONS_OC()</code>: Emissions for organic carbon (<code>\"Tg\"</code>)\n",
       "</p>\n",
       "</li>\n",
       "<li> <p><code>EMISSIONS_NH3()</code>: Emissions for NH3 (<code>\"Tg\"</code>)\n",
       "</p>\n",
       "</li></ul>\n",
       "\n",
       "\n",
       "<h3>Note</h3>\n",
       "\n",
       "<p>Because these identifiers are provided as <code>#define</code> macros in the hector code,\n",
       "these identifiers are provided in the R interface as functions. Therefore,\n",
       "these objects must be called to use them; <em>e.g.</em>, <code>GETDATA()</code>\n",
       "instead of the more natural looking <code>GETDATA</code>.\n",
       "</p>\n",
       "\n",
       "\n",
       "<h3>See Also</h3>\n",
       "\n",
       "<p>Other capability identifiers: \n",
       "<code>CF4_CONSTRAIN()</code>,\n",
       "<code>CONCENTRATIONS_CH4()</code>,\n",
       "<code>CONCENTRATIONS_N2O()</code>,\n",
       "<code>DELTA_CO2()</code>,\n",
       "<code>EMISSIONS_CF4()</code>,\n",
       "<code>EMISSIONS_SO2()</code>,\n",
       "<code>FTOT_CONSTRAIN()</code>,\n",
       "<code>GLOBAL_TAS()</code>,\n",
       "<code>NBP()</code>,\n",
       "<code>OCEAN_UPTAKE()</code>,\n",
       "<code>RF_CF4()</code>,\n",
       "<code>RF_TOTAL()</code>,\n",
       "<code>RHO_BC()</code>,\n",
       "<code>TRACKING_DATE()</code>\n",
       "</p>\n",
       "\n",
       "<hr /><div style=\"text-align: center;\">[Package <em>hector</em> version 3.2.0 ]</div></main>\n",
       "\n",
       "</div>"
      ],
      "text/latex": [
       "\\inputencoding{utf8}\n",
       "\\HeaderA{EMISSIONS\\_BC}{Identifiers for miscellaneous emissions not elsewhere described}{EMISSIONS.Rul.BC}\n",
       "\\aliasA{emissions}{EMISSIONS\\_BC}{emissions}\n",
       "\\aliasA{EMISSIONS\\_CO}{EMISSIONS\\_BC}{EMISSIONS.Rul.CO}\n",
       "\\aliasA{EMISSIONS\\_N2O}{EMISSIONS\\_BC}{EMISSIONS.Rul.N2O}\n",
       "\\aliasA{EMISSIONS\\_NH3}{EMISSIONS\\_BC}{EMISSIONS.Rul.NH3}\n",
       "\\aliasA{EMISSIONS\\_NMVOC}{EMISSIONS\\_BC}{EMISSIONS.Rul.NMVOC}\n",
       "\\aliasA{EMISSIONS\\_NOX}{EMISSIONS\\_BC}{EMISSIONS.Rul.NOX}\n",
       "\\aliasA{EMISSIONS\\_OC}{EMISSIONS\\_BC}{EMISSIONS.Rul.OC}\n",
       "\\aliasA{NAT\\_EMISSIONS\\_N2O}{EMISSIONS\\_BC}{NAT.Rul.EMISSIONS.Rul.N2O}\n",
       "\\keyword{capability identifiers}{EMISSIONS\\_BC}\n",
       "%\n",
       "\\begin{Description}\n",
       "All of these variables can be set using the \\code{\\LinkA{SETDATA}{SETDATA}} message\n",
       "type.\n",
       "\\end{Description}\n",
       "%\n",
       "\\begin{Usage}\n",
       "\\begin{verbatim}\n",
       "EMISSIONS_BC()\n",
       "\n",
       "EMISSIONS_N2O()\n",
       "\n",
       "NAT_EMISSIONS_N2O()\n",
       "\n",
       "EMISSIONS_NOX()\n",
       "\n",
       "EMISSIONS_CO()\n",
       "\n",
       "EMISSIONS_NMVOC()\n",
       "\n",
       "EMISSIONS_OC()\n",
       "\n",
       "EMISSIONS_NH3()\n",
       "\\end{verbatim}\n",
       "\\end{Usage}\n",
       "%\n",
       "\\begin{Section}{Functions}\n",
       "\\begin{itemize}\n",
       "\n",
       "\\item{} \\code{EMISSIONS\\_BC()}: Black carbon emissions\n",
       "\n",
       "\\item{} \\code{EMISSIONS\\_N2O()}: N2O emissions (\\code{\"Tg N\"})\n",
       "\n",
       "\\item{} \\code{NAT\\_EMISSIONS\\_N2O()}: Natural N2O emissions (\\code{\"Tg N\"})\n",
       "\n",
       "\\item{} \\code{EMISSIONS\\_NOX()}: Emissions for NOx compounds (\\code{\"Tg N\"})\n",
       "\n",
       "\\item{} \\code{EMISSIONS\\_CO()}: Emissions for carbon monoxide (\\code{\"Tg CO\"})\n",
       "\n",
       "\\item{} \\code{EMISSIONS\\_NMVOC()}: Emissions for non-methane volatile organic compounds (NMVOC) (\\code{\"Tg NMVOC\"})\n",
       "\n",
       "\\item{} \\code{EMISSIONS\\_OC()}: Emissions for organic carbon (\\code{\"Tg\"})\n",
       "\n",
       "\\item{} \\code{EMISSIONS\\_NH3()}: Emissions for NH3 (\\code{\"Tg\"})\n",
       "\n",
       "\n",
       "\\end{itemize}\n",
       "\\end{Section}\n",
       "%\n",
       "\\begin{Section}{Note}\n",
       "\n",
       "Because these identifiers are provided as \\code{\\#define} macros in the hector code,\n",
       "these identifiers are provided in the R interface as functions. Therefore,\n",
       "these objects must be called to use them; \\emph{e.g.}, \\code{GETDATA()}\n",
       "instead of the more natural looking \\code{GETDATA}.\n",
       "\\end{Section}\n",
       "%\n",
       "\\begin{SeeAlso}\n",
       "Other capability identifiers: \n",
       "\\code{\\LinkA{CF4\\_CONSTRAIN}{CF4.Rul.CONSTRAIN}()},\n",
       "\\code{\\LinkA{CONCENTRATIONS\\_CH4}{CONCENTRATIONS.Rul.CH4}()},\n",
       "\\code{\\LinkA{CONCENTRATIONS\\_N2O}{CONCENTRATIONS.Rul.N2O}()},\n",
       "\\code{\\LinkA{DELTA\\_CO2}{DELTA.Rul.CO2}()},\n",
       "\\code{\\LinkA{EMISSIONS\\_CF4}{EMISSIONS.Rul.CF4}()},\n",
       "\\code{\\LinkA{EMISSIONS\\_SO2}{EMISSIONS.Rul.SO2}()},\n",
       "\\code{\\LinkA{FTOT\\_CONSTRAIN}{FTOT.Rul.CONSTRAIN}()},\n",
       "\\code{\\LinkA{GLOBAL\\_TAS}{GLOBAL.Rul.TAS}()},\n",
       "\\code{\\LinkA{NBP}{NBP}()},\n",
       "\\code{\\LinkA{OCEAN\\_UPTAKE}{OCEAN.Rul.UPTAKE}()},\n",
       "\\code{\\LinkA{RF\\_CF4}{RF.Rul.CF4}()},\n",
       "\\code{\\LinkA{RF\\_TOTAL}{RF.Rul.TOTAL}()},\n",
       "\\code{\\LinkA{RHO\\_BC}{RHO.Rul.BC}()},\n",
       "\\code{\\LinkA{TRACKING\\_DATE}{TRACKING.Rul.DATE}()}\n",
       "\\end{SeeAlso}"
      ],
      "text/plain": [
       "EMISSIONS_BC              package:hector               R Documentation\n",
       "\n",
       "_\bI_\bd_\be_\bn_\bt_\bi_\bf_\bi_\be_\br_\bs _\bf_\bo_\br _\bm_\bi_\bs_\bc_\be_\bl_\bl_\ba_\bn_\be_\bo_\bu_\bs _\be_\bm_\bi_\bs_\bs_\bi_\bo_\bn_\bs _\bn_\bo_\bt _\be_\bl_\bs_\be_\bw_\bh_\be_\br_\be _\bd_\be_\bs_\bc_\br_\bi_\bb_\be_\bd\n",
       "\n",
       "_\bD_\be_\bs_\bc_\br_\bi_\bp_\bt_\bi_\bo_\bn:\n",
       "\n",
       "     All of these variables can be set using the 'SETDATA' message\n",
       "     type.\n",
       "\n",
       "_\bU_\bs_\ba_\bg_\be:\n",
       "\n",
       "     EMISSIONS_BC()\n",
       "     \n",
       "     EMISSIONS_N2O()\n",
       "     \n",
       "     NAT_EMISSIONS_N2O()\n",
       "     \n",
       "     EMISSIONS_NOX()\n",
       "     \n",
       "     EMISSIONS_CO()\n",
       "     \n",
       "     EMISSIONS_NMVOC()\n",
       "     \n",
       "     EMISSIONS_OC()\n",
       "     \n",
       "     EMISSIONS_NH3()\n",
       "     \n",
       "_\bF_\bu_\bn_\bc_\bt_\bi_\bo_\bn_\bs:\n",
       "\n",
       "        * 'EMISSIONS_BC()': Black carbon emissions\n",
       "\n",
       "        * 'EMISSIONS_N2O()': N2O emissions ('\"Tg N\"')\n",
       "\n",
       "        * 'NAT_EMISSIONS_N2O()': Natural N2O emissions ('\"Tg N\"')\n",
       "\n",
       "        * 'EMISSIONS_NOX()': Emissions for NOx compounds ('\"Tg N\"')\n",
       "\n",
       "        * 'EMISSIONS_CO()': Emissions for carbon monoxide ('\"Tg CO\"')\n",
       "\n",
       "        * 'EMISSIONS_NMVOC()': Emissions for non-methane volatile\n",
       "          organic compounds (NMVOC) ('\"Tg NMVOC\"')\n",
       "\n",
       "        * 'EMISSIONS_OC()': Emissions for organic carbon ('\"Tg\"')\n",
       "\n",
       "        * 'EMISSIONS_NH3()': Emissions for NH3 ('\"Tg\"')\n",
       "\n",
       "_\bN_\bo_\bt_\be:\n",
       "\n",
       "     Because these identifiers are provided as '#define' macros in the\n",
       "     hector code, these identifiers are provided in the R interface as\n",
       "     functions. Therefore, these objects must be called to use them;\n",
       "     _e.g._, 'GETDATA()' instead of the more natural looking 'GETDATA'.\n",
       "\n",
       "_\bS_\be_\be _\bA_\bl_\bs_\bo:\n",
       "\n",
       "     Other capability identifiers: 'CF4_CONSTRAIN()',\n",
       "     'CONCENTRATIONS_CH4()', 'CONCENTRATIONS_N2O()', 'DELTA_CO2()',\n",
       "     'EMISSIONS_CF4()', 'EMISSIONS_SO2()', 'FTOT_CONSTRAIN()',\n",
       "     'GLOBAL_TAS()', 'NBP()', 'OCEAN_UPTAKE()', 'RF_CF4()',\n",
       "     'RF_TOTAL()', 'RHO_BC()', 'TRACKING_DATE()'\n"
      ]
     },
     "metadata": {},
     "output_type": "display_data"
    }
   ],
   "source": [
    "# Run to see documentation on Hector emissions\n",
    "help(emissions)"
   ]
  },
  {
   "cell_type": "code",
   "execution_count": 18,
   "id": "af074c3c",
   "metadata": {},
   "outputs": [
    {
     "data": {
      "text/plain": [
       "Hector core:\tSSP2-45\n",
       "Start date:\t1745\n",
       "End date:\t2300\n",
       "Current date:\t2300\n",
       "Input file:\tC:\\Users\\brow521\\AppData\\Local\\R\\win-library\\4.4\\hector\\input\\hector_ssp245.ini"
      ]
     },
     "metadata": {},
     "output_type": "display_data"
    }
   ],
   "source": [
    "# Again start off with an active Hector core and complete a default run so that we have some data to compare with.\n",
    "\n",
    "ini_file = system.file(\"input/hector_ssp245.ini\", package = \"hector\")\n",
    "hcore = newcore(inifile = ini_file, name = \"SSP2-45\") \n",
    "run(core = hcore)"
   ]
  },
  {
   "cell_type": "code",
   "execution_count": 19,
   "id": "8d9f2642",
   "metadata": {},
   "outputs": [],
   "source": [
    "# Fetch a copy of the global temperature and FFI emissions to compare with new run. \n",
    "original_results <- fetchvars(core = hcore, \n",
    "                            dates = 1850:2100,                          # date(s) interested in \n",
    "                            vars = c(FFI_EMISSIONS(), GLOBAL_TAS()))     # variable(s) intrested in \n",
    "original_results$scenario <- \"Original SSP2-45\""
   ]
  },
  {
   "cell_type": "code",
   "execution_count": 20,
   "id": "7aa2a350",
   "metadata": {},
   "outputs": [
    {
     "data": {
      "text/html": [
       "<table class=\"dataframe\">\n",
       "<caption>A data.frame: 6 × 5</caption>\n",
       "<thead>\n",
       "\t<tr><th></th><th scope=col>scenario</th><th scope=col>year</th><th scope=col>variable</th><th scope=col>value</th><th scope=col>units</th></tr>\n",
       "\t<tr><th></th><th scope=col>&lt;chr&gt;</th><th scope=col>&lt;dbl&gt;</th><th scope=col>&lt;chr&gt;</th><th scope=col>&lt;dbl&gt;</th><th scope=col>&lt;chr&gt;</th></tr>\n",
       "</thead>\n",
       "<tbody>\n",
       "\t<tr><th scope=row>1</th><td>SSP2-45</td><td>1850</td><td>ffi_emissions</td><td>0.05138490</td><td>Pg C/yr</td></tr>\n",
       "\t<tr><th scope=row>2</th><td>SSP2-45</td><td>1851</td><td>ffi_emissions</td><td>0.05156231</td><td>Pg C/yr</td></tr>\n",
       "\t<tr><th scope=row>3</th><td>SSP2-45</td><td>1852</td><td>ffi_emissions</td><td>0.05364238</td><td>Pg C/yr</td></tr>\n",
       "\t<tr><th scope=row>4</th><td>SSP2-45</td><td>1853</td><td>ffi_emissions</td><td>0.05595235</td><td>Pg C/yr</td></tr>\n",
       "\t<tr><th scope=row>5</th><td>SSP2-45</td><td>1854</td><td>ffi_emissions</td><td>0.06589565</td><td>Pg C/yr</td></tr>\n",
       "\t<tr><th scope=row>6</th><td>SSP2-45</td><td>1855</td><td>ffi_emissions</td><td>0.06656059</td><td>Pg C/yr</td></tr>\n",
       "</tbody>\n",
       "</table>\n"
      ],
      "text/latex": [
       "A data.frame: 6 × 5\n",
       "\\begin{tabular}{r|lllll}\n",
       "  & scenario & year & variable & value & units\\\\\n",
       "  & <chr> & <dbl> & <chr> & <dbl> & <chr>\\\\\n",
       "\\hline\n",
       "\t1 & SSP2-45 & 1850 & ffi\\_emissions & 0.05138490 & Pg C/yr\\\\\n",
       "\t2 & SSP2-45 & 1851 & ffi\\_emissions & 0.05156231 & Pg C/yr\\\\\n",
       "\t3 & SSP2-45 & 1852 & ffi\\_emissions & 0.05364238 & Pg C/yr\\\\\n",
       "\t4 & SSP2-45 & 1853 & ffi\\_emissions & 0.05595235 & Pg C/yr\\\\\n",
       "\t5 & SSP2-45 & 1854 & ffi\\_emissions & 0.06589565 & Pg C/yr\\\\\n",
       "\t6 & SSP2-45 & 1855 & ffi\\_emissions & 0.06656059 & Pg C/yr\\\\\n",
       "\\end{tabular}\n"
      ],
      "text/markdown": [
       "\n",
       "A data.frame: 6 × 5\n",
       "\n",
       "| <!--/--> | scenario &lt;chr&gt; | year &lt;dbl&gt; | variable &lt;chr&gt; | value &lt;dbl&gt; | units &lt;chr&gt; |\n",
       "|---|---|---|---|---|---|\n",
       "| 1 | SSP2-45 | 1850 | ffi_emissions | 0.05138490 | Pg C/yr |\n",
       "| 2 | SSP2-45 | 1851 | ffi_emissions | 0.05156231 | Pg C/yr |\n",
       "| 3 | SSP2-45 | 1852 | ffi_emissions | 0.05364238 | Pg C/yr |\n",
       "| 4 | SSP2-45 | 1853 | ffi_emissions | 0.05595235 | Pg C/yr |\n",
       "| 5 | SSP2-45 | 1854 | ffi_emissions | 0.06589565 | Pg C/yr |\n",
       "| 6 | SSP2-45 | 1855 | ffi_emissions | 0.06656059 | Pg C/yr |\n",
       "\n"
      ],
      "text/plain": [
       "  scenario year variable      value      units  \n",
       "1 SSP2-45  1850 ffi_emissions 0.05138490 Pg C/yr\n",
       "2 SSP2-45  1851 ffi_emissions 0.05156231 Pg C/yr\n",
       "3 SSP2-45  1852 ffi_emissions 0.05364238 Pg C/yr\n",
       "4 SSP2-45  1853 ffi_emissions 0.05595235 Pg C/yr\n",
       "5 SSP2-45  1854 ffi_emissions 0.06589565 Pg C/yr\n",
       "6 SSP2-45  1855 ffi_emissions 0.06656059 Pg C/yr"
      ]
     },
     "metadata": {},
     "output_type": "display_data"
    }
   ],
   "source": [
    "# Save a copy the FFI emissions pathway, this is the dataframe we will be manipulating. \n",
    "ffi_emissions <- fetchvars(core = hcore, \n",
    "                            dates = 1850:2100,          # date(s) interested in \n",
    "                            vars = FFI_EMISSIONS())     # variable(s) intrested in \n",
    "\n",
    "head(ffi_emissions)"
   ]
  },
  {
   "cell_type": "markdown",
   "id": "590b4d64",
   "metadata": {},
   "source": [
    "Now, for the sake of this example let's cut the emissions in half. "
   ]
  },
  {
   "cell_type": "code",
   "execution_count": 21,
   "id": "c06465a6",
   "metadata": {},
   "outputs": [],
   "source": [
    "ffi_emissions$value <- ffi_emissions$value * 0.5"
   ]
  },
  {
   "cell_type": "code",
   "execution_count": 22,
   "id": "684209fd",
   "metadata": {},
   "outputs": [
    {
     "data": {
      "text/html": [
       "<table class=\"dataframe\">\n",
       "<caption>A data.frame: 6 × 5</caption>\n",
       "<thead>\n",
       "\t<tr><th></th><th scope=col>scenario</th><th scope=col>year</th><th scope=col>variable</th><th scope=col>value</th><th scope=col>units</th></tr>\n",
       "\t<tr><th></th><th scope=col>&lt;chr&gt;</th><th scope=col>&lt;dbl&gt;</th><th scope=col>&lt;chr&gt;</th><th scope=col>&lt;dbl&gt;</th><th scope=col>&lt;chr&gt;</th></tr>\n",
       "</thead>\n",
       "<tbody>\n",
       "\t<tr><th scope=row>1</th><td>SSP2-45</td><td>1850</td><td>ffi_emissions</td><td>0.02569245</td><td>Pg C/yr</td></tr>\n",
       "\t<tr><th scope=row>2</th><td>SSP2-45</td><td>1851</td><td>ffi_emissions</td><td>0.02578115</td><td>Pg C/yr</td></tr>\n",
       "\t<tr><th scope=row>3</th><td>SSP2-45</td><td>1852</td><td>ffi_emissions</td><td>0.02682119</td><td>Pg C/yr</td></tr>\n",
       "\t<tr><th scope=row>4</th><td>SSP2-45</td><td>1853</td><td>ffi_emissions</td><td>0.02797617</td><td>Pg C/yr</td></tr>\n",
       "\t<tr><th scope=row>5</th><td>SSP2-45</td><td>1854</td><td>ffi_emissions</td><td>0.03294783</td><td>Pg C/yr</td></tr>\n",
       "\t<tr><th scope=row>6</th><td>SSP2-45</td><td>1855</td><td>ffi_emissions</td><td>0.03328030</td><td>Pg C/yr</td></tr>\n",
       "</tbody>\n",
       "</table>\n"
      ],
      "text/latex": [
       "A data.frame: 6 × 5\n",
       "\\begin{tabular}{r|lllll}\n",
       "  & scenario & year & variable & value & units\\\\\n",
       "  & <chr> & <dbl> & <chr> & <dbl> & <chr>\\\\\n",
       "\\hline\n",
       "\t1 & SSP2-45 & 1850 & ffi\\_emissions & 0.02569245 & Pg C/yr\\\\\n",
       "\t2 & SSP2-45 & 1851 & ffi\\_emissions & 0.02578115 & Pg C/yr\\\\\n",
       "\t3 & SSP2-45 & 1852 & ffi\\_emissions & 0.02682119 & Pg C/yr\\\\\n",
       "\t4 & SSP2-45 & 1853 & ffi\\_emissions & 0.02797617 & Pg C/yr\\\\\n",
       "\t5 & SSP2-45 & 1854 & ffi\\_emissions & 0.03294783 & Pg C/yr\\\\\n",
       "\t6 & SSP2-45 & 1855 & ffi\\_emissions & 0.03328030 & Pg C/yr\\\\\n",
       "\\end{tabular}\n"
      ],
      "text/markdown": [
       "\n",
       "A data.frame: 6 × 5\n",
       "\n",
       "| <!--/--> | scenario &lt;chr&gt; | year &lt;dbl&gt; | variable &lt;chr&gt; | value &lt;dbl&gt; | units &lt;chr&gt; |\n",
       "|---|---|---|---|---|---|\n",
       "| 1 | SSP2-45 | 1850 | ffi_emissions | 0.02569245 | Pg C/yr |\n",
       "| 2 | SSP2-45 | 1851 | ffi_emissions | 0.02578115 | Pg C/yr |\n",
       "| 3 | SSP2-45 | 1852 | ffi_emissions | 0.02682119 | Pg C/yr |\n",
       "| 4 | SSP2-45 | 1853 | ffi_emissions | 0.02797617 | Pg C/yr |\n",
       "| 5 | SSP2-45 | 1854 | ffi_emissions | 0.03294783 | Pg C/yr |\n",
       "| 6 | SSP2-45 | 1855 | ffi_emissions | 0.03328030 | Pg C/yr |\n",
       "\n"
      ],
      "text/plain": [
       "  scenario year variable      value      units  \n",
       "1 SSP2-45  1850 ffi_emissions 0.02569245 Pg C/yr\n",
       "2 SSP2-45  1851 ffi_emissions 0.02578115 Pg C/yr\n",
       "3 SSP2-45  1852 ffi_emissions 0.02682119 Pg C/yr\n",
       "4 SSP2-45  1853 ffi_emissions 0.02797617 Pg C/yr\n",
       "5 SSP2-45  1854 ffi_emissions 0.03294783 Pg C/yr\n",
       "6 SSP2-45  1855 ffi_emissions 0.03328030 Pg C/yr"
      ]
     },
     "metadata": {},
     "output_type": "display_data"
    }
   ],
   "source": [
    "head(ffi_emissions)"
   ]
  },
  {
   "cell_type": "code",
   "execution_count": 23,
   "id": "ea806d97",
   "metadata": {},
   "outputs": [
    {
     "name": "stderr",
     "output_type": "stream",
     "text": [
      "Auto-resetting core to 1849\n",
      "\n"
     ]
    },
    {
     "data": {
      "text/plain": [
       "Hector core:\tSSP2-45\n",
       "Start date:\t1745\n",
       "End date:\t2300\n",
       "Current date:\t2300\n",
       "Input file:\tC:\\Users\\brow521\\AppData\\Local\\R\\win-library\\4.4\\hector\\input\\hector_ssp245.ini"
      ]
     },
     "metadata": {},
     "output_type": "display_data"
    }
   ],
   "source": [
    "# Use setvars to pass in the new emissions pathway. \n",
    "setvar(core = hcore, \n",
    "       dates = ffi_emissions$year, \n",
    "       var = ffi_emissions$variable, \n",
    "       values = ffi_emissions$value, \n",
    "       unit = ffi_emissions$units)\n",
    "run(hcore)"
   ]
  },
  {
   "cell_type": "code",
   "execution_count": 24,
   "id": "f2af90fd",
   "metadata": {},
   "outputs": [],
   "source": [
    "# Query results \n",
    "reduced_ffi_results <- fetchvars(core = hcore, \n",
    "                            dates = 1850:2100,                          # date(s) interested in \n",
    "                            vars = c(FFI_EMISSIONS(), GLOBAL_TAS()))     # variable(s) intrested in \n",
    "reduced_ffi_results$scenario <- \"reduced ffi SSP2-45\""
   ]
  },
  {
   "cell_type": "code",
   "execution_count": 25,
   "id": "4a42e982",
   "metadata": {},
   "outputs": [
    {
     "data": {
      "image/png": "[encoded data removed]",
      "text/plain": [
       "plot without title"
      ]
     },
     "metadata": {
      "image/png": {
       "height": 480,
       "width": 960
      }
     },
     "output_type": "display_data"
    }
   ],
   "source": [
    "# Combine the data frames into a single data frame, then plot it. \n",
    "results <- rbind(original_results, reduced_ffi_results)\n",
    "\n",
    "ggplot(data = results) + \n",
    "    geom_line(aes(year, value, color = scenario), linewidth = 1) + \n",
    "    facet_wrap(\"variable\", scales = \"free\") +\n",
    "    labs(y = NULL) "
   ]
  },
  {
   "cell_type": "markdown",
   "id": "65e972d1",
   "metadata": {},
   "source": [
    "Check out more examples at http://jgcri.github.io/hector/."
   ]
  }
 ],
 "metadata": {
  "kernelspec": {
   "display_name": "R",
   "language": "R",
   "name": "ir"
  },
  "language_info": {
   "codemirror_mode": "r",
   "file_extension": ".r",
   "mimetype": "text/x-r-source",
   "name": "R",
   "pygments_lexer": "r",
   "version": "4.4.2"
  }
 },
 "nbformat": 4,
 "nbformat_minor": 5
}
