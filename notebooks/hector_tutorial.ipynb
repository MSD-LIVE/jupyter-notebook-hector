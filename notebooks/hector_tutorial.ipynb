{
 "cells": [
  {
   "cell_type": "markdown",
   "id": "72a3a069",
   "metadata": {},
   "source": [
    "# Hector V3.2.0 Tutorial\n",
    "\n",
    "Hector is an open-source, object-oriented, Reduced Complexity Earth Systems Model (RCM). It models critical earth system processes on a global scale. As a computationally efficient model, Hector has many applications. It can be used to explore scenarios, generate large ensembles of results, explore key uncertainties, and emulate Earth System Models. There are three ways to use Hector: as a stand-alone executable, through the online HectorUI, and as an R package. Installation instructions and examples are available at https://github.com/jgcri/hector and https://github.com/jgcri/hectorui. \n",
    "\n",
    "Follow the appropriate [installation for your machine]( http://jgcri.github.io/hector/articles/BuildHector.html) to run locally. Here you will learn how to use the R hector package to run complete a Hector run, change a model parameter, and query results. "
   ]
  },
  {
   "cell_type": "markdown",
   "id": "192ea1d1",
   "metadata": {},
   "source": [
    "## Getting started"
   ]
  },
  {
   "cell_type": "code",
   "execution_count": 1,
   "id": "2dff786c",
   "metadata": {
    "ExecuteTime": {
     "end_time": "2025-06-03T00:31:43.652401Z",
     "start_time": "2025-06-03T00:31:43.622046Z"
    }
   },
   "outputs": [],
   "source": [
    "# Load the Hector package (this requires that Hector has already been installed\n",
    "# see http://jgcri.github.io/hector/articles/BuildHector.html)\n",
    "library(hector)\n",
    "\n",
    "# Package used to plot results\n",
    "library(ggplot2)\n",
    "theme_set(theme_bw(base_size = 20)) # plot setting\n",
    "options(repr.plot.width=16, repr.plot.height=8)"
   ]
  },
  {
   "cell_type": "markdown",
   "id": "601a843e",
   "metadata": {},
   "source": [
    "The Hector R package ships with a handful of scenarios, located in the input diretory of the package. See a list of the ini (initialization) files using the `system.file` function. Each one of these files is a configuration file for a hector run, each file contains the default model parameters and the emission time-series for the SSP scenarios."
   ]
  },
  {
   "cell_type": "code",
   "execution_count": 2,
   "id": "aac8f082-99ad-4c18-b31b-0283804a75dd",
   "metadata": {
    "ExecuteTime": {
     "start_time": "2025-06-03T00:31:43.627479Z"
    },
    "tags": []
   },
   "outputs": [
    {
     "name": "stdout",
     "output_type": "stream",
     "text": [
      "hector_ssp119.ini\n",
      "hector_ssp126.ini\n",
      "hector_ssp245.ini\n",
      "hector_ssp370.ini\n",
      "hector_ssp434.ini\n",
      "hector_ssp460.ini\n",
      "hector_ssp534-over.ini\n",
      "hector_ssp585.ini\n",
      "tables\n"
     ]
    }
   ],
   "source": [
    "files <- list.files(system.file(\"input\", package = \"hector\"))\n",
    "cat(files, sep= \"\\n\")"
   ]
  },
  {
   "cell_type": "markdown",
   "id": "a9002430",
   "metadata": {},
   "source": [
    "## Run SSP2-4.5"
   ]
  },
  {
   "cell_type": "markdown",
   "id": "c303172e",
   "metadata": {},
   "source": [
    "Use the `newcore` function to set up a Hector core to run the SSP2-4.5 scenario."
   ]
  },
  {
   "cell_type": "code",
   "execution_count": null,
   "id": "3e9b0956",
   "metadata": {
    "ExecuteTime": {
     "start_time": "2025-06-03T00:31:43.628745Z"
    }
   },
   "outputs": [],
   "source": [
    "# Select the ini file to use.\n",
    "ini_file = system.file(\"input/hector_ssp245.ini\", package = \"hector\")\n",
    "\n",
    "# Set up a Hector core using the ini file. \n",
    "hcore = newcore(inifile = ini_file, name = \"SSP2-45\") \n",
    "\n",
    "# Run Hector! It will take less than a second.\n",
    "run(core = hcore)"
   ]
  },
  {
   "cell_type": "markdown",
   "id": "096555ff",
   "metadata": {},
   "source": [
    "Use the `fetchvars` function to query the Hector results. It can be used to get a time series of results or model parameters."
   ]
  },
  {
   "cell_type": "code",
   "execution_count": null,
   "id": "f3a1e70e",
   "metadata": {
    "ExecuteTime": {
     "start_time": "2025-06-03T00:31:43.630406Z"
    }
   },
   "outputs": [],
   "source": [
    "# A vector of the variables we are interested in. Hector has a number of helper functions that return the \n",
    "# string names recognized by the Hector core. \n",
    "vars = c(GLOBAL_TAS(), CONCENTRATIONS_CO2())\n",
    "cat(vars, sep = \"\\n\")"
   ]
  },
  {
   "cell_type": "code",
   "execution_count": null,
   "id": "8e0817fa-f40d-40bd-aedd-15450df552c7",
   "metadata": {
    "ExecuteTime": {
     "start_time": "2025-06-03T00:31:43.632188Z"
    }
   },
   "outputs": [],
   "source": [
    "out_ssp245 = fetchvars(core = hcore,         # the active hector core\n",
    "                       dates = 1850:2100,    # the vector contains the years of interest \n",
    "                       vars = vars)          # the vector contains the variables of interest\n",
    "\n",
    "head(out_ssp245)"
   ]
  },
  {
   "cell_type": "code",
   "execution_count": null,
   "id": "961d7a74-bd79-439c-9397-d754d72486a0",
   "metadata": {
    "ExecuteTime": {
     "start_time": "2025-06-03T00:31:43.633549Z"
    }
   },
   "outputs": [],
   "source": [
    "# After fetching the restults from Hector shut down the Hector core, this is a good practice. \n",
    "shutdown(hcore)"
   ]
  },
  {
   "cell_type": "markdown",
   "id": "fbbe6853",
   "metadata": {},
   "source": [
    "Now we can plot the Hector results."
   ]
  },
  {
   "cell_type": "code",
   "execution_count": null,
   "id": "2b899d20",
   "metadata": {
    "ExecuteTime": {
     "start_time": "2025-06-03T00:31:43.634994Z"
    }
   },
   "outputs": [],
   "source": [
    "ggplot(data = out_ssp245) + \n",
    "    geom_line(aes(year, value, color = scenario), linewidth = 1) + \n",
    "    labs(title = \"Hector SSP2-45 Results\") + \n",
    "    facet_wrap(\"variable\", scales = \"free\") +\n",
    "    labs(y = NULL)\n"
   ]
  },
  {
   "cell_type": "markdown",
   "id": "04c90dda",
   "metadata": {},
   "source": [
    "## How to change a Hector parameter\n",
    "\n",
    "In this example we will learn how to change Hector's equilibrium climate sensitivity parameter (`ECS`). "
   ]
  },
  {
   "cell_type": "code",
   "execution_count": null,
   "id": "35a4d2fe",
   "metadata": {
    "ExecuteTime": {
     "start_time": "2025-06-03T00:31:43.636203Z"
    }
   },
   "outputs": [],
   "source": [
    "# First set up a Hector core\n",
    "ini_file = system.file(\"input/hector_ssp245.ini\", package = \"hector\")\n",
    "hcore = newcore(inifile = ini_file, name = \"SSP2-45 higher ECS\") \n",
    "run(core = hcore)"
   ]
  },
  {
   "cell_type": "markdown",
   "id": "3265c125",
   "metadata": {},
   "source": [
    "Use the `fetchvar` to extract the default ECS value. "
   ]
  },
  {
   "cell_type": "code",
   "execution_count": null,
   "id": "6699135e",
   "metadata": {
    "ExecuteTime": {
     "start_time": "2025-06-03T00:31:43.637698Z"
    }
   },
   "outputs": [],
   "source": [
    "default_ECS = fetchvars(core = hcore, dates = NA, vars = ECS())\n",
    "default_ECS"
   ]
  },
  {
   "cell_type": "markdown",
   "id": "35c52159",
   "metadata": {},
   "source": [
    "Here, we will double the default ECS and pass the information to the Hector core by calling `setvar()`. The `setvar()` function needs the string name for units, which we can get from the helper `getunits()` function."
   ]
  },
  {
   "cell_type": "code",
   "execution_count": null,
   "id": "c4675056",
   "metadata": {
    "ExecuteTime": {
     "start_time": "2025-06-03T00:31:43.639239Z"
    }
   },
   "outputs": [],
   "source": [
    "# double the default ECS value\n",
    "double_ECS = 2 * default_ECS$value\n",
    "double_ECS"
   ]
  },
  {
   "cell_type": "code",
   "execution_count": null,
   "id": "1789db61",
   "metadata": {
    "ExecuteTime": {
     "start_time": "2025-06-03T00:31:43.640507Z"
    }
   },
   "outputs": [],
   "source": [
    "ECS_units = getunits(vars = ECS())\n",
    "ECS_units"
   ]
  },
  {
   "cell_type": "code",
   "execution_count": null,
   "id": "dbd5bb6f",
   "metadata": {
    "ExecuteTime": {
     "start_time": "2025-06-03T00:31:43.641779Z"
    }
   },
   "outputs": [],
   "source": [
    "setvar(core = hcore, \n",
    "       dates = NA, \n",
    "       var = ECS(), \n",
    "       values = double_ECS, \n",
    "       unit = ECS_units)"
   ]
  },
  {
   "cell_type": "code",
   "execution_count": null,
   "id": "ff5172b3",
   "metadata": {
    "ExecuteTime": {
     "start_time": "2025-06-03T00:31:43.643275Z"
    }
   },
   "outputs": [],
   "source": [
    "run(core = hcore)"
   ]
  },
  {
   "cell_type": "code",
   "execution_count": null,
   "id": "2c33914e",
   "metadata": {
    "ExecuteTime": {
     "start_time": "2025-06-03T00:31:43.644459Z"
    }
   },
   "outputs": [],
   "source": [
    "out_ssp245_newECS = fetchvars(core = hcore, dates = 1850:2100, vars = vars)"
   ]
  },
  {
   "cell_type": "code",
   "execution_count": null,
   "id": "38bc875c",
   "metadata": {
    "ExecuteTime": {
     "start_time": "2025-06-03T00:31:43.645313Z"
    }
   },
   "outputs": [],
   "source": [
    "# Combine the data frames into a single data frame, then plot it. \n",
    "results <- rbind(out_ssp245, out_ssp245_newECS)\n",
    "\n",
    "ggplot(data = results) + \n",
    "    geom_line(aes(year, value, color = scenario), linewidth = 1) + \n",
    "    facet_wrap(\"variable\", scales = \"free\") +\n",
    "    labs(y = NULL)"
   ]
  },
  {
   "cell_type": "markdown",
   "id": "5720d76d",
   "metadata": {},
   "source": [
    "## Modifying an  emissions pathway\n",
    "\n",
    "RCMS such as Hector can be used to explore custom/new emissions scenarios. Using the `setvars` function users can modify the emission input pathways, allowing users to test out new scenarios. Here, we will modify the CO$_{2}$ emissions from fossil fuel and industry (`ffi_emissions`) to demonstrate how to change emission pathways. **Note** that a total of 40 different emission pathways can be set using this approach, `ffi_emissions` is just the example we are using here."
   ]
  },
  {
   "cell_type": "code",
   "execution_count": null,
   "id": "5a2a9e3a",
   "metadata": {
    "ExecuteTime": {
     "start_time": "2025-06-03T00:31:43.646112Z"
    }
   },
   "outputs": [],
   "source": [
    "# Run to see documentation on Hector emissions\n",
    "help(emissions)"
   ]
  },
  {
   "cell_type": "code",
   "execution_count": null,
   "id": "af074c3c",
   "metadata": {
    "ExecuteTime": {
     "start_time": "2025-06-03T00:31:43.646895Z"
    }
   },
   "outputs": [],
   "source": [
    "# Again start off with an active Hector core and complete a default run so that we have some data to compare with.\n",
    "\n",
    "ini_file = system.file(\"input/hector_ssp245.ini\", package = \"hector\")\n",
    "hcore = newcore(inifile = ini_file, name = \"SSP2-45\") \n",
    "run(core = hcore)"
   ]
  },
  {
   "cell_type": "code",
   "execution_count": null,
   "id": "8d9f2642",
   "metadata": {
    "ExecuteTime": {
     "start_time": "2025-06-03T00:31:43.647809Z"
    }
   },
   "outputs": [],
   "source": [
    "# Fetch a copy of the global temperature and FFI emissions to compare with new run. \n",
    "original_results <- fetchvars(core = hcore, \n",
    "                            dates = 1850:2100,                          # date(s) interested in \n",
    "                            vars = c(FFI_EMISSIONS(), GLOBAL_TAS()))     # variable(s) intrested in \n",
    "original_results$scenario <- \"Original SSP2-45\""
   ]
  },
  {
   "cell_type": "code",
   "execution_count": null,
   "id": "7aa2a350",
   "metadata": {
    "ExecuteTime": {
     "start_time": "2025-06-03T00:31:43.648619Z"
    }
   },
   "outputs": [],
   "source": [
    "# Save a copy the FFI emissions pathway, this is the dataframe we will be manipulating. \n",
    "ffi_emissions <- fetchvars(core = hcore, \n",
    "                            dates = 1850:2100,          # date(s) interested in \n",
    "                            vars = FFI_EMISSIONS())     # variable(s) intrested in \n",
    "\n",
    "head(ffi_emissions)"
   ]
  },
  {
   "cell_type": "markdown",
   "id": "590b4d64",
   "metadata": {},
   "source": [
    "Now, for the sake of this example let's cut the emissions in half. "
   ]
  },
  {
   "cell_type": "code",
   "execution_count": null,
   "id": "c06465a6",
   "metadata": {
    "ExecuteTime": {
     "start_time": "2025-06-03T00:31:43.649266Z"
    }
   },
   "outputs": [],
   "source": [
    "ffi_emissions$value <- ffi_emissions$value * 0.5"
   ]
  },
  {
   "cell_type": "code",
   "execution_count": null,
   "id": "684209fd",
   "metadata": {
    "ExecuteTime": {
     "start_time": "2025-06-03T00:31:43.649910Z"
    }
   },
   "outputs": [],
   "source": [
    "head(ffi_emissions)"
   ]
  },
  {
   "cell_type": "code",
   "execution_count": null,
   "id": "ea806d97",
   "metadata": {
    "ExecuteTime": {
     "start_time": "2025-06-03T00:31:43.650557Z"
    }
   },
   "outputs": [],
   "source": [
    "# Use setvars to pass in the new emissions pathway. \n",
    "setvar(core = hcore, \n",
    "       dates = ffi_emissions$year, \n",
    "       var = ffi_emissions$variable, \n",
    "       values = ffi_emissions$value, \n",
    "       unit = ffi_emissions$units)\n",
    "run(hcore)"
   ]
  },
  {
   "cell_type": "code",
   "execution_count": null,
   "id": "f2af90fd",
   "metadata": {
    "ExecuteTime": {
     "start_time": "2025-06-03T00:31:43.651207Z"
    }
   },
   "outputs": [],
   "source": [
    "# Query results \n",
    "reduced_ffi_results <- fetchvars(core = hcore, \n",
    "                            dates = 1850:2100,                          # date(s) interested in \n",
    "                            vars = c(FFI_EMISSIONS(), GLOBAL_TAS()))     # variable(s) intrested in \n",
    "reduced_ffi_results$scenario <- \"reduced ffi SSP2-45\""
   ]
  },
  {
   "cell_type": "code",
   "execution_count": null,
   "id": "4a42e982",
   "metadata": {
    "ExecuteTime": {
     "start_time": "2025-06-03T00:31:43.651842Z"
    }
   },
   "outputs": [],
   "source": [
    "# Combine the data frames into a single data frame, then plot it. \n",
    "results <- rbind(original_results, reduced_ffi_results)\n",
    "\n",
    "ggplot(data = results) + \n",
    "    geom_line(aes(year, value, color = scenario), linewidth = 1) + \n",
    "    facet_wrap(\"variable\", scales = \"free\") +\n",
    "    labs(y = NULL) "
   ]
  },
  {
   "cell_type": "markdown",
   "id": "65e972d1",
   "metadata": {},
   "source": [
    "Check out more examples at http://jgcri.github.io/hector/."
   ]
  }
 ],
 "metadata": {
  "kernelspec": {
   "display_name": "R",
   "language": "R",
   "name": "ir"
  },
  "language_info": {
   "codemirror_mode": "r",
   "file_extension": ".r",
   "mimetype": "text/x-r-source",
   "name": "R",
   "pygments_lexer": "r",
   "version": "4.4.2"
  }
 },
 "nbformat": 4,
 "nbformat_minor": 5
}
